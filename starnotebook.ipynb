{
 "cells": [
  {
   "cell_type": "code",
   "execution_count": 0,
   "metadata": {
    "application/vnd.databricks.v1+cell": {
     "cellMetadata": {
      "byteLimit": 2048000,
      "rowLimit": 10000
     },
     "inputWidgets": {},
     "nuid": "578781ec-15be-4df3-92e6-a459cd548597",
     "showTitle": false,
     "tableResultSettingsMap": {},
     "title": ""
    }
   },
   "outputs": [],
   "source": [
    "print(\"wlcome\")"
   ]
  },
  {
   "cell_type": "code",
   "execution_count": 0,
   "metadata": {
    "application/vnd.databricks.v1+cell": {
     "cellMetadata": {
      "byteLimit": 2048000,
      "rowLimit": 10000
     },
     "inputWidgets": {},
     "nuid": "2cddf8cf-1449-4266-aefa-b368541038c0",
     "showTitle": false,
     "tableResultSettingsMap": {},
     "title": ""
    }
   },
   "outputs": [],
   "source": [
    "dbutils.fs.unmount('/mnt/POC')"
   ]
  },
  {
   "cell_type": "code",
   "execution_count": 0,
   "metadata": {
    "application/vnd.databricks.v1+cell": {
     "cellMetadata": {
      "byteLimit": 2048000,
      "rowLimit": 10000
     },
     "inputWidgets": {},
     "nuid": "99527a7c-695c-4dbb-9c48-173d9be9c48b",
     "showTitle": false,
     "tableResultSettingsMap": {},
     "title": ""
    }
   },
   "outputs": [],
   "source": [
    "# List all mount points\n",
    "mounts = dbutils.fs.mounts()\n",
    " \n",
    "# Print the mount points\n",
    "for mount in mounts:\n",
    "    print(mount.mountPoint)"
   ]
  },
  {
   "cell_type": "code",
   "execution_count": 0,
   "metadata": {
    "application/vnd.databricks.v1+cell": {
     "cellMetadata": {
      "byteLimit": 2048000,
      "rowLimit": 10000
     },
     "inputWidgets": {},
     "nuid": "cb6eda82-fb60-473f-9285-6cf864abc825",
     "showTitle": false,
     "tableResultSettingsMap": {},
     "title": ""
    }
   },
   "outputs": [],
   "source": [
    "if not any(mount.mountPoint == '/mnt/POC' for mount in dbutils.fs.mounts()):\n",
    "    dbutils.fs.mount(\n",
    "        source='wasbs://salesdata@azadlsonboardingpoc.blob.core.windows.net/input',\n",
    "        mount_point='/mnt/POC',\n",
    "        extra_configs={\n",
    "            'fs.azure.account.key.azadlsonboardingpoc.blob.core.windows.net': 'T11EwRW5+AyZSA4dsQxCAg5ZE2EOnGnnnsFBNdbtz9KdoWcOoPDz00CQrjcejJyT5bZ/kBcDbYjD+AStqD0Y+g=='\n",
    "        }\n",
    "    )\n",
    "\n",
    "files = dbutils.fs.ls(\"/mnt/POC\")\n",
    "filenames = [file.name for file in files]\n",
    "files_df = spark.createDataFrame(filenames, \"string\").toDF(\"filename\")\n",
    "files_df.show()"
   ]
  },
  {
   "cell_type": "code",
   "execution_count": 0,
   "metadata": {
    "application/vnd.databricks.v1+cell": {
     "cellMetadata": {
      "byteLimit": 2048000,
      "rowLimit": 10000
     },
     "inputWidgets": {},
     "nuid": "a7087a6b-bc21-4eda-8a07-f64bf3c57e26",
     "showTitle": false,
     "tableResultSettingsMap": {},
     "title": ""
    }
   },
   "outputs": [],
   "source": [
    "# Read CSV into DataFrame\n",
    "csv_file_path = \"/mnt/POC/orderdetails.csv\"\n",
    "Orderdetails_df = spark.read.csv(csv_file_path, header=True, inferSchema=True)\n",
    " \n",
    "# Show the DataFrame\n",
    "Orderdetails_df.show()"
   ]
  }
 ],
 "metadata": {
  "application/vnd.databricks.v1+notebook": {
   "computePreferences": null,
   "dashboards": [],
   "environmentMetadata": {
    "base_environment": "",
    "environment_version": "2"
   },
   "inputWidgetPreferences": null,
   "language": "python",
   "notebookMetadata": {
    "pythonIndentUnit": 4
   },
   "notebookName": "starnotebook",
   "widgets": {}
  },
  "language_info": {
   "name": "python"
  }
 },
 "nbformat": 4,
 "nbformat_minor": 0
}
